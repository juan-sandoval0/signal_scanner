{
 "cells": [
  {
   "cell_type": "code",
   "execution_count": 1,
   "id": "5801e4ab-0adc-403e-9e59-601ea2ac1a66",
   "metadata": {},
   "outputs": [
    {
     "name": "stdout",
     "output_type": "stream",
     "text": [
      "API key loaded successfully\n"
     ]
    }
   ],
   "source": [
    "from dotenv import load_dotenv\n",
    "import os\n",
    "\n",
    "load_dotenv()\n",
    "api_key = os.getenv('OPENAI_API_KEY')\n",
    "\n",
    "if api_key and api_key.startswith('sk-'):\n",
    "    print(\"API key loaded successfully\")\n",
    "else:\n",
    "    print(\"Check your .env file\")"
   ]
  },
  {
   "cell_type": "code",
   "execution_count": 2,
   "id": "9b2b16be-7319-4b5f-88bd-8782e0a205fb",
   "metadata": {},
   "outputs": [
    {
     "name": "stdout",
     "output_type": "stream",
     "text": [
      "Requirement already satisfied: openai in ./venv/lib/python3.12/site-packages (1.78.0)\n",
      "Requirement already satisfied: beautifulsoup4 in ./venv/lib/python3.12/site-packages (4.13.4)\n",
      "Requirement already satisfied: requests in ./venv/lib/python3.12/site-packages (2.32.3)\n",
      "Requirement already satisfied: python-dotenv in ./venv/lib/python3.12/site-packages (1.1.0)\n",
      "Requirement already satisfied: tldextract in ./venv/lib/python3.12/site-packages (5.3.0)\n",
      "Requirement already satisfied: anyio<5,>=3.5.0 in ./venv/lib/python3.12/site-packages (from openai) (4.9.0)\n",
      "Requirement already satisfied: distro<2,>=1.7.0 in ./venv/lib/python3.12/site-packages (from openai) (1.9.0)\n",
      "Requirement already satisfied: httpx<1,>=0.23.0 in ./venv/lib/python3.12/site-packages (from openai) (0.28.1)\n",
      "Requirement already satisfied: jiter<1,>=0.4.0 in ./venv/lib/python3.12/site-packages (from openai) (0.9.0)\n",
      "Requirement already satisfied: pydantic<3,>=1.9.0 in ./venv/lib/python3.12/site-packages (from openai) (2.11.4)\n",
      "Requirement already satisfied: sniffio in ./venv/lib/python3.12/site-packages (from openai) (1.3.1)\n",
      "Requirement already satisfied: tqdm>4 in ./venv/lib/python3.12/site-packages (from openai) (4.67.1)\n",
      "Requirement already satisfied: typing-extensions<5,>=4.11 in ./venv/lib/python3.12/site-packages (from openai) (4.13.2)\n",
      "Requirement already satisfied: idna>=2.8 in ./venv/lib/python3.12/site-packages (from anyio<5,>=3.5.0->openai) (3.10)\n",
      "Requirement already satisfied: certifi in ./venv/lib/python3.12/site-packages (from httpx<1,>=0.23.0->openai) (2025.4.26)\n",
      "Requirement already satisfied: httpcore==1.* in ./venv/lib/python3.12/site-packages (from httpx<1,>=0.23.0->openai) (1.0.9)\n",
      "Requirement already satisfied: h11>=0.16 in ./venv/lib/python3.12/site-packages (from httpcore==1.*->httpx<1,>=0.23.0->openai) (0.16.0)\n",
      "Requirement already satisfied: annotated-types>=0.6.0 in ./venv/lib/python3.12/site-packages (from pydantic<3,>=1.9.0->openai) (0.7.0)\n",
      "Requirement already satisfied: pydantic-core==2.33.2 in ./venv/lib/python3.12/site-packages (from pydantic<3,>=1.9.0->openai) (2.33.2)\n",
      "Requirement already satisfied: typing-inspection>=0.4.0 in ./venv/lib/python3.12/site-packages (from pydantic<3,>=1.9.0->openai) (0.4.0)\n",
      "Requirement already satisfied: soupsieve>1.2 in ./venv/lib/python3.12/site-packages (from beautifulsoup4) (2.7)\n",
      "Requirement already satisfied: charset-normalizer<4,>=2 in ./venv/lib/python3.12/site-packages (from requests) (3.4.2)\n",
      "Requirement already satisfied: urllib3<3,>=1.21.1 in ./venv/lib/python3.12/site-packages (from requests) (2.4.0)\n",
      "Requirement already satisfied: requests-file>=1.4 in ./venv/lib/python3.12/site-packages (from tldextract) (2.1.0)\n",
      "Requirement already satisfied: filelock>=3.0.8 in ./venv/lib/python3.12/site-packages (from tldextract) (3.18.0)\n",
      "Note: you may need to restart the kernel to use updated packages.\n"
     ]
    }
   ],
   "source": [
    "pip install openai beautifulsoup4 requests python-dotenv tldextract"
   ]
  },
  {
   "cell_type": "code",
   "execution_count": 5,
   "id": "979527c2-6424-4efc-89d8-9e625fec278a",
   "metadata": {},
   "outputs": [
    {
     "name": "stdout",
     "output_type": "stream",
     "text": [
      "{'url': 'https://www.sapien.io/', 'title': 'Fine-tune LLM Models With Human Feedback & Data Labelling | Sapien', 'num_links': 32, 'text_preview': \"Check out the Sapien's Guide to AI in 2025\\nRead Now >\\nSapien.io: A Decentralized Data Foundry Raises $10.5M,\\nRead More\\nSchedule a Consult\\nLanguage\\nLanguage\\nSchedule a Consult\\nTrain AI with Expert Human Feedback\\nAccuracy. Scalability. Expertise.\\nCustom data collection and labeling services, powered b...\"}\n"
     ]
    }
   ],
   "source": [
    "\"\"\"\n",
    "Test for web_scrapper\n",
    "\"\"\"\n",
    "from src.web_scraper import Website\n",
    "\n",
    "url = \"https://www.sapien.io/\"  # Just an example from a startup!\n",
    "site = Website(url)\n",
    "\n",
    "print(site.summary())"
   ]
  },
  {
   "cell_type": "code",
   "execution_count": 6,
   "id": "e8c1cd43-5bb2-4087-8a06-7e4f6d2f9b0e",
   "metadata": {},
   "outputs": [
    {
     "name": "stdout",
     "output_type": "stream",
     "text": [
      "{'links': [{'type': 'about', 'url': 'https://www.sapien.io/'}, {'type': 'blog', 'url': 'https://www.sapien.io/blog/ai-in-2025-navigating-the-future-of-innovation-with-sapiens-guide'}, {'type': 'blog', 'url': 'https://www.sapien.io/blog/sapien-io-a-decentralized-data-foundry-raises-10-5m'}, {'type': 'careers', 'url': 'https://wellfound.com/jobs/3042964-demand-generation-specialist?utm_campaign=startup_share&utm_content=startup_share_module&utm_medium=social&utm_term=sapien-io'}, {'type': 'careers', 'url': 'https://wellfound.com/jobs/3034338-junior-software-engineer?utm_campaign=startup_share&utm_content=startup_share_module&utm_medium=social&utm_term=sapien-io'}, {'type': 'careers', 'url': 'https://wellfound.com/jobs/3034337-senior-software-engineer-web3?utm_campaign=startup_share&utm_content=startup_share_module&utm_medium=social&utm_term=sapien-io'}]}\n"
     ]
    }
   ],
   "source": [
    "\"\"\"\"\n",
    "Test for prompt_engine\n",
    "\"\"\"\n",
    "from src.web_scraper import Website\n",
    "from src.prompt_engine import classify_links\n",
    "\n",
    "# Scrape the website\n",
    "site = Website(\"https://www.sapien.io/\")\n",
    "\n",
    "# Filter the links\n",
    "filtered = classify_links(site.url, site.links)\n",
    "print(filtered)"
   ]
  },
  {
   "cell_type": "code",
   "execution_count": 7,
   "id": "c745c1f4-be2c-4fb6-a3d8-442c7d2d3a7c",
   "metadata": {},
   "outputs": [
    {
     "name": "stdout",
     "output_type": "stream",
     "text": [
      "Requirement already satisfied: google-search-results in /opt/anaconda3/lib/python3.12/site-packages (2.4.2)\n",
      "Requirement already satisfied: requests in /opt/anaconda3/lib/python3.12/site-packages (from google-search-results) (2.32.3)\n",
      "Requirement already satisfied: charset-normalizer<4,>=2 in /opt/anaconda3/lib/python3.12/site-packages (from requests->google-search-results) (3.3.2)\n",
      "Requirement already satisfied: idna<4,>=2.5 in /opt/anaconda3/lib/python3.12/site-packages (from requests->google-search-results) (3.7)\n",
      "Requirement already satisfied: urllib3<3,>=1.21.1 in /opt/anaconda3/lib/python3.12/site-packages (from requests->google-search-results) (2.2.3)\n",
      "Requirement already satisfied: certifi>=2017.4.17 in /opt/anaconda3/lib/python3.12/site-packages (from requests->google-search-results) (2024.8.30)\n",
      "Note: you may need to restart the kernel to use updated packages.\n"
     ]
    }
   ],
   "source": [
    "pip install google-search-results"
   ]
  },
  {
   "cell_type": "code",
   "execution_count": 8,
   "id": "d32a2ce5-fd6c-4c6e-9340-f4decf5391d7",
   "metadata": {},
   "outputs": [
    {
     "name": "stdout",
     "output_type": "stream",
     "text": [
      "Found articles:\n",
      " [{'title': \"All the companies from Y Combinator's W20 Demo Day ...\", 'url': 'https://techcrunch.com/2020/03/17/all-the-companies-from-y-combinators-w20-demo-day-part-iii-hardware-robots-ai-and-developer-tools/', 'snippet': \"PostHog: PostHog is a software service that lets developers understand how their users are actually working with their products. It's a ...\"}, {'title': 'Tyson Clark, a general partner with GV, has passed away', 'url': 'https://techcrunch.com/2021/12/09/tyson-clark-a-general-partner-with-gv-has-passed-away/', 'snippet': 'In December of last year, for example, he led a Series A round for PostHog, a product analytics platform whose founder he had not met in ...'}]\n",
      "\n",
      "--- FULL ARTICLE ---\n",
      "All the companies from Y Combinator’s W20 Demo Day, Part III: Hardware, Robots, AI and Developer Tools\n",
      "2020-03-17T12:43:46-07:00\n",
      " ...\n"
     ]
    }
   ],
   "source": [
    "'''\n",
    "Test for Tech Crunch Scrapper\n",
    "'''\n",
    "from src.techcrunch_scraper import find_techcrunch_articles, scrape_techcrunch_article\n",
    "\n",
    "articles = find_techcrunch_articles(\"PostHog\")\n",
    "print(\"Found articles:\\n\", articles)\n",
    "\n",
    "# Get info for first article\n",
    "if articles:\n",
    "    full_article = scrape_techcrunch_article(articles[0][\"url\"])\n",
    "    print(\"\\n--- FULL ARTICLE ---\")\n",
    "    print(full_article[\"title\"])\n",
    "    print(full_article[\"date\"])\n",
    "    print(full_article[\"text\"][:500], \"...\")"
   ]
  },
  {
   "cell_type": "code",
   "execution_count": null,
   "id": "7f91d188-d1ac-4826-80d1-1e39eda8fc8e",
   "metadata": {},
   "outputs": [],
   "source": [
    "\"\"\"\n",
    "Test for analyzer\n",
    "\"\"\"\n",
    "from src.analyzer import collect_all_details\n",
    "from IPython.display import Markdown, display\n",
    "\n",
    "summary_data = collect_all_details(\"ScaleAI\", \"https://scale.com/\")\n",
    "\n",
    "# Preview a portion of each section\n",
    "print(f\"Company: {summary_data['company_name']}\")\n",
    "print(f\"Homepage title: {summary_data['homepage']['title']}\")\n",
    "print(f\"Homepage preview: {summary_data['homepage']['text'][:300]}...\\n\")\n",
    "\n",
    "for page in summary_data['subpages']:\n",
    "    print(f\"--- {page['type'].upper()} PAGE ---\")\n",
    "    print(page['text'][:300], \"...\\n\")\n",
    "\n",
    "for article in summary_data[\"techcrunch_articles\"]:\n",
    "    print(f\"\\n {article['title']} ({article['date']})\\n{article['text'][:500]}...\\n\")"
   ]
  },
  {
   "cell_type": "code",
   "execution_count": 14,
   "id": "68b6d52c-6c40-412e-b48f-6cdbca5003d6",
   "metadata": {},
   "outputs": [
    {
     "data": {
      "text/markdown": [
       "# Scale AI Company Report\n",
       "\n",
       "## Company Snapshot\n",
       "**Company Name**: Scale AI  \n",
       "**Headquarters**: San Francisco, CA  \n",
       "**Founded**: 2016  \n",
       "**Founders**: Alexandr Wang, Lucy Guo  \n",
       "**Employees**: Approximately 900  \n",
       "**Latest Funding**: $1.35 billion  \n",
       "\n",
       "## Product & Technology\n",
       "Scale AI specializes in providing a comprehensive data-centric solution for managing the entire machine learning (ML) lifecycle. Their flagship offerings include:\n",
       "\n",
       "- **Scale Data Engine**: A platform for collecting, curating, and annotating data. This engine is trusted by leading machine learning teams to accelerate model development through high-quality labeling and cost-effective optimization of data spend.\n",
       "  \n",
       "- **GenAI Platform**: Allows businesses to build, test, and optimize generative AI applications. It utilizes advanced retrieval-augmented generation (RAG) pipelines to enhance domain-specific LLM performance and improve productivity through custom copilots for employees.\n",
       "\n",
       "- **SEAL (Safety, Evaluations, and Alignment Lab)**: A research initiative aimed at improving model capabilities through rigorous evaluations and research on AI safety and alignment.\n",
       "\n",
       "## Market Opportunity and Traction\n",
       "Scale AI is positioned at the intersection of significant growth trends in AI and machine learning application deployment. They serve diverse sectors, including government, private enterprises, and generative AI companies, indicating a broad market opportunity. \n",
       "\n",
       "The demand for high-quality labeled datasets continues to grow in tandem with the acceleration in AI adoption across industries, and Scale AI's operational capabilities uniquely enable them to meet this demand. The firm has annotated a staggering 13 billion data points to date, with 87 million of those pertaining to generative AI, reflecting strong traction and a robust client base. \n",
       "\n",
       "Recent mentions in the media, such as their initiatives to influence policymakers on AI regulations and the unveiling of the 'Defense Llama' model for national security, underscore their strategic importance and visibility in the AI ecosystem.\n",
       "\n",
       "## Competitive Landscape\n",
       "Scale AI operates in a competitive landscape characterized by other data labeling and AI service providers, including companies like Appen, Labelbox, and AWS SageMaker Ground Truth. While these competitors offer similar services, Scale AI differentiates itself with its strong focus on quality, scalability, and expertise, along with a robust platform that integrates end-to-end solutions for customers across various sectors. \n",
       "\n",
       "Moreover, their continuous investment in research and development through initiatives like SEAL positions them as thought leaders in AI safety and model evaluation, which can provide them a competitive edge in gaining customer trust.\n",
       "\n",
       "## Investment View\n",
       "- **Base Case**: Scale AI embodies a strong growth potential underpinned by increasing reliance on AI technologies across businesses and government. Its end-to-end solutions and significant dataset generation capabilities position it favorably in a growing market.\n",
       "\n",
       "- **Upside Drivers**: \n",
       "  - Expanding partnerships with government entities and large enterprises can accelerate growth.\n",
       "  - Continuous advancements in their data engine and GenAI platform can lead to enhancements in model performance and customer satisfaction.\n",
       "\n",
       "- **Key Risks**: \n",
       "  - The ever-evolving regulatory environment around AI could impose constraints on operations.\n",
       "  - Rising competition from both established tech giants and emerging startups might pressure pricing and margins.\n",
       "\n",
       "- **Milestones to Watch**: \n",
       "  - Updates on government contracts or partnerships, particularly with the U.S. government and defense sectors.\n",
       "  - Announcements related to product advancements or new customer acquisitions.\n",
       "\n",
       "## Bottom Line\n",
       "Scale AI has established itself as a leader in the data-centric AI landscape, enabling a diverse set of enterprises and government agencies to unlock the true value of their data. With a strong foundation in quality and scalability, alongside its innovations in generative AI, Scale AI is well-positioned for continued growth. An investment in Scale AI appears justified given its market position and the critical role it plays in the AI development ecosystem. However, investors should keep a vigilant eye on competitive pressures and regulatory developments that may affect its operational landscape."
      ],
      "text/plain": [
       "<IPython.core.display.Markdown object>"
      ]
     },
     "metadata": {},
     "output_type": "display_data"
    }
   ],
   "source": [
    "from src.analyzer import collect_all_details\n",
    "from src.prompt_engine import generate_markdown_brief\n",
    "from IPython.display import Markdown, display\n",
    "\n",
    "# Get the company data\n",
    "summary = collect_all_details(\"Scale AI\", \"https://scale.com/\")\n",
    "\n",
    "#Generate the report\n",
    "markdown_report = generate_markdown_brief(summary)\n",
    "\n",
    "display(Markdown(markdown_report))"
   ]
  }
 ],
 "metadata": {
  "kernelspec": {
   "display_name": "Python 3 (ipykernel)",
   "language": "python",
   "name": "python3"
  },
  "language_info": {
   "codemirror_mode": {
    "name": "ipython",
    "version": 3
   },
   "file_extension": ".py",
   "mimetype": "text/x-python",
   "name": "python",
   "nbconvert_exporter": "python",
   "pygments_lexer": "ipython3",
   "version": "3.12.7"
  }
 },
 "nbformat": 4,
 "nbformat_minor": 5
}
